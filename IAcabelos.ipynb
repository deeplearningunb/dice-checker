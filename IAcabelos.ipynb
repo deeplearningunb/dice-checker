{
 "cells": [
  {
   "cell_type": "code",
   "execution_count": 1,
   "metadata": {
    "id": "1hSlIGvu6tB9"
   },
   "outputs": [],
   "source": [
    "#imports --------------------------\n",
    "import pandas as pd\n",
    "import numpy as np\n",
    "import tensorflow as tf\n",
    "from keras.preprocessing import image\n",
    "#from keras.preprocessing.image import ImageDataGenerator"
   ]
  },
  {
   "cell_type": "code",
   "execution_count": 3,
   "metadata": {},
   "outputs": [
    {
     "name": "stdout",
     "output_type": "stream",
     "text": [
      "Found 1398 images belonging to 4 classes.\n"
     ]
    }
   ],
   "source": [
    "train_datagen = image.ImageDataGenerator(rescale = 1./255, shear_range = 0.2, zoom_range = 0.2, horizontal_flip = True )\n",
    "train_set = train_datagen.flow_from_directory('dataset/Train/',\n",
    "                                                 target_size = (64, 64),\n",
    "                                                 batch_size = 32,\n",
    "                                                 class_mode = 'categorical')"
   ]
  },
  {
   "cell_type": "code",
   "execution_count": 4,
   "metadata": {
    "colab": {
     "base_uri": "https://localhost:8080/"
    },
    "id": "51tIr0MG7Xye",
    "outputId": "574482e9-d987-403b-ccb4-ecbdca718a0e"
   },
   "outputs": [
    {
     "name": "stdout",
     "output_type": "stream",
     "text": [
      "Found 685 images belonging to 4 classes.\n"
     ]
    }
   ],
   "source": [
    "test_datagen = image.ImageDataGenerator(rescale = 1./255, shear_range = 0.2, zoom_range = 0.2, horizontal_flip = True )\n",
    "test_set = test_datagen.flow_from_directory('dataset/Test/',\n",
    "                                                 target_size = (64, 64),\n",
    "                                                 batch_size = 32,\n",
    "                                                 class_mode = 'categorical')"
   ]
  },
  {
   "cell_type": "code",
   "execution_count": 5,
   "metadata": {
    "id": "7UUgRuUXMVmq"
   },
   "outputs": [],
   "source": [
    "cnn = tf.keras.models.Sequential()\n",
    "\n",
    "cnn.add(tf.keras.layers.Conv2D(filters=32, kernel_size=3, activation='relu', input_shape=[64, 64, 3]))\n",
    "\n",
    "cnn.add(tf.keras.layers.MaxPool2D(pool_size=2, strides=2))\n",
    "\n",
    "cnn.add(tf.keras.layers.Conv2D(filters=32, kernel_size=3, activation='relu'))\n",
    "\n",
    "cnn.add(tf.keras.layers.MaxPool2D(pool_size=2, strides=2))\n",
    "\n",
    "cnn.add(tf.keras.layers.Dropout(0.3))\n",
    "\n",
    "cnn.add(tf.keras.layers.Flatten())\n",
    "\n",
    "cnn.add(tf.keras.layers.Dense(units=128, activation=tf.keras.layers.LeakyReLU()))\n",
    "\n",
    "cnn.add(tf.keras.layers.Dropout(0.3))\n",
    "\n",
    "cnn.add(tf.keras.layers.Dense(units=64, activation='relu'))\n",
    "\n",
    "cnn.add(tf.keras.layers.Dropout(0.2))\n",
    "\n",
    "cnn.add(tf.keras.layers.Dense(units=32, activation='relu'))\n",
    "\n",
    "cnn.add(tf.keras.layers.Dropout(0.2))\n",
    "\n",
    "cnn.add(tf.keras.layers.Dense(units=4, activation='softmax'))"
   ]
  },
  {
   "cell_type": "code",
   "execution_count": 6,
   "metadata": {
    "colab": {
     "base_uri": "https://localhost:8080/"
    },
    "id": "F4qMnFPP7bPc",
    "outputId": "086051ca-d527-400f-8115-9e6c794e56d2"
   },
   "outputs": [
    {
     "name": "stdout",
     "output_type": "stream",
     "text": [
      "Epoch 1/40\n",
      "44/44 [==============================] - 12s 260ms/step - loss: 1.3829 - accuracy: 0.3465 - val_loss: 0.9083 - val_accuracy: 0.7124\n",
      "Epoch 2/40\n",
      "44/44 [==============================] - 12s 278ms/step - loss: 1.0642 - accuracy: 0.5470 - val_loss: 0.6896 - val_accuracy: 0.7226\n",
      "Epoch 3/40\n",
      "44/44 [==============================] - 12s 266ms/step - loss: 0.8667 - accuracy: 0.6201 - val_loss: 0.6281 - val_accuracy: 0.7328\n",
      "Epoch 4/40\n",
      "44/44 [==============================] - 12s 268ms/step - loss: 0.8195 - accuracy: 0.6262 - val_loss: 0.5076 - val_accuracy: 0.7912\n",
      "Epoch 5/40\n",
      "44/44 [==============================] - 12s 269ms/step - loss: 0.7925 - accuracy: 0.6314 - val_loss: 0.6712 - val_accuracy: 0.7153\n",
      "Epoch 6/40\n",
      "44/44 [==============================] - 12s 271ms/step - loss: 0.7604 - accuracy: 0.6690 - val_loss: 0.4540 - val_accuracy: 0.8117\n",
      "Epoch 7/40\n",
      "44/44 [==============================] - 13s 289ms/step - loss: 0.6843 - accuracy: 0.7123 - val_loss: 0.5443 - val_accuracy: 0.7781\n",
      "Epoch 8/40\n",
      "44/44 [==============================] - 13s 287ms/step - loss: 0.6162 - accuracy: 0.7204 - val_loss: 0.4709 - val_accuracy: 0.7971\n",
      "Epoch 9/40\n",
      "44/44 [==============================] - 13s 287ms/step - loss: 0.6559 - accuracy: 0.6871 - val_loss: 0.4571 - val_accuracy: 0.7956\n",
      "Epoch 10/40\n",
      "44/44 [==============================] - 13s 291ms/step - loss: 0.6051 - accuracy: 0.7121 - val_loss: 0.4314 - val_accuracy: 0.8131\n",
      "Epoch 11/40\n",
      "44/44 [==============================] - 13s 286ms/step - loss: 0.5702 - accuracy: 0.7425 - val_loss: 0.4360 - val_accuracy: 0.8015\n",
      "Epoch 12/40\n",
      "44/44 [==============================] - 13s 291ms/step - loss: 0.5539 - accuracy: 0.7660 - val_loss: 0.4659 - val_accuracy: 0.7825\n",
      "Epoch 13/40\n",
      "44/44 [==============================] - 13s 290ms/step - loss: 0.5650 - accuracy: 0.7448 - val_loss: 0.5152 - val_accuracy: 0.7825\n",
      "Epoch 14/40\n",
      "44/44 [==============================] - 12s 279ms/step - loss: 0.5818 - accuracy: 0.7500 - val_loss: 0.4555 - val_accuracy: 0.7737\n",
      "Epoch 15/40\n",
      "44/44 [==============================] - 13s 289ms/step - loss: 0.5805 - accuracy: 0.7473 - val_loss: 0.4329 - val_accuracy: 0.8029\n",
      "Epoch 16/40\n",
      "44/44 [==============================] - 13s 286ms/step - loss: 0.5553 - accuracy: 0.7485 - val_loss: 0.4873 - val_accuracy: 0.7927\n",
      "Epoch 17/40\n",
      "44/44 [==============================] - 13s 288ms/step - loss: 0.4809 - accuracy: 0.7898 - val_loss: 0.4298 - val_accuracy: 0.8175\n",
      "Epoch 18/40\n",
      "44/44 [==============================] - 13s 290ms/step - loss: 0.5400 - accuracy: 0.7766 - val_loss: 0.4790 - val_accuracy: 0.7942\n",
      "Epoch 19/40\n",
      "44/44 [==============================] - 13s 291ms/step - loss: 0.4895 - accuracy: 0.7877 - val_loss: 0.4246 - val_accuracy: 0.8029\n",
      "Epoch 20/40\n",
      "44/44 [==============================] - 13s 288ms/step - loss: 0.4817 - accuracy: 0.7812 - val_loss: 0.4612 - val_accuracy: 0.8263\n",
      "Epoch 21/40\n",
      "44/44 [==============================] - 12s 285ms/step - loss: 0.4656 - accuracy: 0.7953 - val_loss: 0.4163 - val_accuracy: 0.8102\n",
      "Epoch 22/40\n",
      "44/44 [==============================] - 13s 292ms/step - loss: 0.4287 - accuracy: 0.8279 - val_loss: 0.4458 - val_accuracy: 0.8277\n",
      "Epoch 23/40\n",
      "44/44 [==============================] - 13s 288ms/step - loss: 0.4215 - accuracy: 0.8262 - val_loss: 0.4473 - val_accuracy: 0.8161\n",
      "Epoch 24/40\n",
      "44/44 [==============================] - 13s 288ms/step - loss: 0.3997 - accuracy: 0.8399 - val_loss: 0.5271 - val_accuracy: 0.7927\n",
      "Epoch 25/40\n",
      "44/44 [==============================] - 13s 296ms/step - loss: 0.4680 - accuracy: 0.8037 - val_loss: 0.4328 - val_accuracy: 0.8292\n",
      "Epoch 26/40\n",
      "44/44 [==============================] - 13s 293ms/step - loss: 0.3789 - accuracy: 0.8470 - val_loss: 0.5075 - val_accuracy: 0.8161\n",
      "Epoch 27/40\n",
      "44/44 [==============================] - 14s 316ms/step - loss: 0.3922 - accuracy: 0.8312 - val_loss: 0.4427 - val_accuracy: 0.8292\n",
      "Epoch 28/40\n",
      "44/44 [==============================] - 13s 285ms/step - loss: 0.4123 - accuracy: 0.8289 - val_loss: 0.4961 - val_accuracy: 0.8175\n",
      "Epoch 29/40\n",
      "44/44 [==============================] - 12s 281ms/step - loss: 0.4144 - accuracy: 0.8247 - val_loss: 0.4683 - val_accuracy: 0.8029\n",
      "Epoch 30/40\n",
      "44/44 [==============================] - 12s 271ms/step - loss: 0.4020 - accuracy: 0.8331 - val_loss: 0.4234 - val_accuracy: 0.8380\n",
      "Epoch 31/40\n",
      "44/44 [==============================] - 12s 275ms/step - loss: 0.3165 - accuracy: 0.8819 - val_loss: 0.4998 - val_accuracy: 0.7971\n",
      "Epoch 32/40\n",
      "44/44 [==============================] - 12s 271ms/step - loss: 0.3651 - accuracy: 0.8632 - val_loss: 0.4945 - val_accuracy: 0.8102\n",
      "Epoch 33/40\n",
      "44/44 [==============================] - 14s 315ms/step - loss: 0.3959 - accuracy: 0.8553 - val_loss: 0.4799 - val_accuracy: 0.8263\n",
      "Epoch 34/40\n",
      "44/44 [==============================] - 13s 286ms/step - loss: 0.3653 - accuracy: 0.8523 - val_loss: 0.4939 - val_accuracy: 0.8000\n",
      "Epoch 35/40\n",
      "44/44 [==============================] - 13s 287ms/step - loss: 0.3913 - accuracy: 0.8464 - val_loss: 0.4423 - val_accuracy: 0.8365\n",
      "Epoch 36/40\n",
      "44/44 [==============================] - 12s 282ms/step - loss: 0.3571 - accuracy: 0.8634 - val_loss: 0.4917 - val_accuracy: 0.8219\n",
      "Epoch 37/40\n",
      "44/44 [==============================] - 12s 269ms/step - loss: 0.3831 - accuracy: 0.8476 - val_loss: 0.4477 - val_accuracy: 0.8321\n",
      "Epoch 38/40\n",
      "44/44 [==============================] - 12s 281ms/step - loss: 0.3195 - accuracy: 0.8708 - val_loss: 0.4508 - val_accuracy: 0.8161\n",
      "Epoch 39/40\n",
      "44/44 [==============================] - 12s 272ms/step - loss: 0.3365 - accuracy: 0.8741 - val_loss: 0.4865 - val_accuracy: 0.8292\n",
      "Epoch 40/40\n",
      "44/44 [==============================] - 12s 281ms/step - loss: 0.3178 - accuracy: 0.8724 - val_loss: 0.4762 - val_accuracy: 0.8248\n"
     ]
    },
    {
     "data": {
      "text/plain": [
       "<tensorflow.python.keras.callbacks.History at 0x7f166ab27e90>"
      ]
     },
     "execution_count": 6,
     "metadata": {},
     "output_type": "execute_result"
    }
   ],
   "source": [
    "cnn.compile(optimizer = 'adam', loss = 'categorical_crossentropy', metrics = ['accuracy'])\n",
    "\n",
    "cnn.fit(x = train_set, validation_data = test_set, epochs = 40)\n"
   ]
  },
  {
   "cell_type": "code",
   "execution_count": 7,
   "metadata": {},
   "outputs": [
    {
     "name": "stderr",
     "output_type": "stream",
     "text": [
      "WARNING:absl:Found untraced functions such as leaky_re_lu_layer_call_and_return_conditional_losses, leaky_re_lu_layer_call_fn, leaky_re_lu_layer_call_fn, leaky_re_lu_layer_call_and_return_conditional_losses, leaky_re_lu_layer_call_and_return_conditional_losses while saving (showing 5 of 5). These functions will not be directly callable after loading.\n",
      "WARNING:absl:Found untraced functions such as leaky_re_lu_layer_call_and_return_conditional_losses, leaky_re_lu_layer_call_fn, leaky_re_lu_layer_call_fn, leaky_re_lu_layer_call_and_return_conditional_losses, leaky_re_lu_layer_call_and_return_conditional_losses while saving (showing 5 of 5). These functions will not be directly callable after loading.\n"
     ]
    },
    {
     "name": "stdout",
     "output_type": "stream",
     "text": [
      "INFO:tensorflow:Assets written to: cabelo-save/assets\n"
     ]
    },
    {
     "name": "stderr",
     "output_type": "stream",
     "text": [
      "INFO:tensorflow:Assets written to: cabelo-save/assets\n"
     ]
    }
   ],
   "source": [
    "cnn.save('cabelo-save')"
   ]
  },
  {
   "cell_type": "code",
   "execution_count": 15,
   "metadata": {
    "colab": {
     "base_uri": "https://localhost:8080/",
     "height": 674
    },
    "id": "HVo7vQXxAb78",
    "outputId": "a40e189a-6361-4bc1-8226-f8a672f3d9c3"
   },
   "outputs": [
    {
     "name": "stdout",
     "output_type": "stream",
     "text": [
      "cacheado\n"
     ]
    },
    {
     "data": {
      "image/jpeg": "[encoded data removed]",
      "text/plain": [
       "<IPython.core.display.Image object>"
      ]
     },
     "metadata": {},
     "output_type": "display_data"
    }
   ],
   "source": [
    "imgPath = 'dataset/Predict/cacheado6.jpg'\n",
    "test_image = image.load_img(imgPath, target_size = (64, 64))\n",
    "test_image = image.img_to_array(test_image)\n",
    "test_image = np.expand_dims(test_image, axis = 0)\n",
    "result = cnn.predict(test_image)\n",
    "\n",
    "if(result[0][0] == max(result[0])):\n",
    "    print('cacheado')\n",
    "    \n",
    "if(result[0][1] == max(result[0])):\n",
    "    print('careca')\n",
    "    \n",
    "if(result[0][2] == max(result[0])):\n",
    "    print('liso')\n",
    "\n",
    "if(result[0][3] == max(result[0])):\n",
    "    print('ondulado')\n",
    "    \n",
    "\n",
    "from IPython.display import Image \n",
    "pil_img = Image(filename=imgPath)\n",
    "display(pil_img)"
   ]
  }
 ],
 "metadata": {
  "colab": {
   "name": "IAcabelos.ipynb",
   "provenance": [],
   "toc_visible": true
  },
  "kernelspec": {
   "display_name": "python374",
   "language": "python",
   "name": "python374"
  },
  "language_info": {
   "codemirror_mode": {
    "name": "ipython",
    "version": 3
   },
   "file_extension": ".py",
   "mimetype": "text/x-python",
   "name": "python",
   "nbconvert_exporter": "python",
   "pygments_lexer": "ipython3",
   "version": "3.7.4"
  }
 },
 "nbformat": 4,
 "nbformat_minor": 4
}
